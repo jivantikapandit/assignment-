{
 "cells": [
  {
   "cell_type": "markdown",
   "metadata": {},
   "source": [
    "# Task 1 to 4"
   ]
  },
  {
   "cell_type": "code",
   "execution_count": 12,
   "metadata": {},
   "outputs": [
    {
     "name": "stdout",
     "output_type": "stream",
     "text": [
      "97\n"
     ]
    }
   ],
   "source": [
    "#printing maximum value of list\n",
    "data1=[11,56,87,97,2,4,6]\n",
    "print(max(data1))"
   ]
  },
  {
   "cell_type": "code",
   "execution_count": 13,
   "metadata": {},
   "outputs": [
    {
     "name": "stdout",
     "output_type": "stream",
     "text": [
      "second largest value is 87\n"
     ]
    }
   ],
   "source": [
    "#printing second largest number in a list\n",
    "data1=[11,56,87,97,2,4,6]\n",
    "data1.sort()\n",
    "print(\"second largest value is\",data1[-2])"
   ]
  },
  {
   "cell_type": "code",
   "execution_count": 14,
   "metadata": {},
   "outputs": [
    {
     "ename": "SyntaxError",
     "evalue": "invalid syntax (<ipython-input-14-90479b559e31>, line 2)",
     "output_type": "error",
     "traceback": [
      "\u001b[1;36m  File \u001b[1;32m\"<ipython-input-14-90479b559e31>\"\u001b[1;36m, line \u001b[1;32m2\u001b[0m\n\u001b[1;33m    data1=[Python program to swap the first and last values of a list]\u001b[0m\n\u001b[1;37m                  ^\u001b[0m\n\u001b[1;31mSyntaxError\u001b[0m\u001b[1;31m:\u001b[0m invalid syntax\n"
     ]
    }
   ],
   "source": [
    "#first merge two lists and sort it\n",
    "data1=[Python program to swap the first and last values of a list]\n",
    "data2=[1,33,8,90,5,10]\n",
    "data=data1+data2\n",
    "data.sort()\n",
    "print(data)\n"
   ]
  },
  {
   "cell_type": "code",
   "execution_count": 15,
   "metadata": {},
   "outputs": [
    {
     "name": "stdout",
     "output_type": "stream",
     "text": [
      "[6, 56, 87, 97, 2, 4, 11]\n"
     ]
    }
   ],
   "source": [
    "# to swap the first and last values of a list\n",
    "data1=[11,56,87,97,2,4,6]\n",
    "data1[0],data1[-1]=data1[-1],data1[0]\n",
    "print(data1)"
   ]
  },
  {
   "cell_type": "code",
   "execution_count": null,
   "metadata": {},
   "outputs": [],
   "source": []
  }
 ],
 "metadata": {
  "kernelspec": {
   "display_name": "Python 3",
   "language": "python",
   "name": "python3"
  },
  "language_info": {
   "codemirror_mode": {
    "name": "ipython",
    "version": 3
   },
   "file_extension": ".py",
   "mimetype": "text/x-python",
   "name": "python",
   "nbconvert_exporter": "python",
   "pygments_lexer": "ipython3",
   "version": "3.8.3"
  }
 },
 "nbformat": 4,
 "nbformat_minor": 4
}
